{
 "cells": [
  {
   "cell_type": "code",
   "execution_count": 29,
   "id": "b30ae12d-fa92-429a-9a89-7910667f12bf",
   "metadata": {},
   "outputs": [],
   "source": [
    "import numpy as np\n",
    "import time\n",
    "import ast\n",
    "from subprocess import Popen, PIPE\n",
    "from pathlib import Path"
   ]
  },
  {
   "cell_type": "code",
   "execution_count": 22,
   "id": "3fd76276-32d8-4482-8878-13ac7d5b147a",
   "metadata": {},
   "outputs": [],
   "source": [
    "root = Path(\"../scripts/smac\")\n",
    "output = root.joinpath(\"smac3-output_3_20\")\n",
    "dataset = root.joinpath(\"3_20/train\")\n",
    "cmd_basic = root.joinpath(\"multiobj\")\n",
    "\n",
    "seeds = [1234, 2, 221190, 317, 777]\n",
    "\n",
    "wt_lst = ['max_weight',\n",
    "    'min_weight',\n",
    "    'max_avg_value',\n",
    "    'min_avg_value',\n",
    "    'max_max_value',\n",
    "    'min_max_value',\n",
    "    'max_min_value',\n",
    "    'min_min_value',\n",
    "    'max_avg_value_by_weight',\n",
    "    'max_max_value_by_weight']\n",
    "\n",
    "train_instances = [dataset.joinpath(f\"kp_7_3_20_{i}.dat\") for i in range(250)]\n",
    "test_instances = [dataset.joinpath(f\"kp_7_3_20_{i}.dat\") for i in range(250, 500)]"
   ]
  },
  {
   "cell_type": "code",
   "execution_count": 25,
   "id": "efb4ea68-cd57-4b0a-9b84-e89eb89056e9",
   "metadata": {},
   "outputs": [],
   "source": [
    "def find_run_time(instances, wt_str):\n",
    "    total_time = 0\n",
    "    count = 0\n",
    "    for instance in instances:\n",
    "        cmd = f\"{str(cmd_basic)} {instance} ./sample_weighted.csv 1\"\n",
    "        cmd = cmd + \" \" + wt_str\n",
    "\n",
    "        io = Popen(cmd.split(\" \"), stdout=PIPE, stderr=PIPE)\n",
    "        (stdout_, stderr_) = io.communicate()\n",
    "\n",
    "        # print(stdout_, stderr_)\n",
    "        stdout_str = stdout_.decode('utf-8')\n",
    "        if len(stdout_str):\n",
    "            status, result = stdout_str.split(\":\")            \n",
    "            if status == \"Solved\":\n",
    "                total_time += np.sum(list(map(float, stdout_str.strip().split(',')[-3:])))\n",
    "                count += 1\n",
    "                \n",
    "    return total_time/count"
   ]
  },
  {
   "cell_type": "code",
   "execution_count": 28,
   "id": "bf908afb-7256-4e3e-a25c-73d3f36e5f01",
   "metadata": {},
   "outputs": [
    {
     "name": "stdout",
     "output_type": "stream",
     "text": [
      "Seed 1234\n",
      "Incumbent id: 1, Train time: 0.02760885599999999, Test time: 0.028309240000000006\n",
      "Incumbent id: 2, Train time: 0.028073216, Test time: 0.02873656000000001\n",
      "Incumbent id: 3, Train time: 0.027647456, Test time: 0.028257856000000022\n",
      "Incumbent id: 4, Train time: 0.028494363999999987, Test time: 0.02936996400000001\n",
      "Incumbent id: 5, Train time: 0.028036052000000016, Test time: 0.029817487999999986\n",
      "Incumbent id: 6, Train time: 0.028590300000000003, Test time: 0.02907392799999998\n",
      "Incumbent id: 7, Train time: 0.027987011999999988, Test time: 0.02863321199999999\n",
      "Incumbent id: 8, Train time: 0.02835319999999999, Test time: 0.02886603599999999\n",
      "-------------------------------------------------------------------\n",
      "Best Incumbent: 3, best test time 0.028257856000000022\n",
      "\n",
      "\n",
      "Seed 2\n",
      "Incumbent id: 1, Train time: 0.027197503999999994, Test time: 0.027968375999999986\n",
      "Incumbent id: 2, Train time: 0.028446816000000017, Test time: 0.02898856400000001\n",
      "Incumbent id: 3, Train time: 0.02855899999999999, Test time: 0.029231692000000014\n",
      "Incumbent id: 4, Train time: 0.029014028000000004, Test time: 0.029270687999999996\n",
      "Incumbent id: 5, Train time: 0.028808388000000018, Test time: 0.028917112000000002\n",
      "Incumbent id: 6, Train time: 0.027901603999999986, Test time: 0.028467491999999994\n",
      "Incumbent id: 7, Train time: 0.028525759999999983, Test time: 0.029199084000000007\n",
      "Incumbent id: 8, Train time: 0.027837636, Test time: 0.031118880000000012\n",
      "Incumbent id: 9, Train time: 0.028690496000000003, Test time: 0.029442023999999997\n",
      "Incumbent id: 10, Train time: 0.02781899599999998, Test time: 0.02850721999999999\n",
      "-------------------------------------------------------------------\n",
      "Best Incumbent: 1, best test time 0.027968375999999986\n",
      "\n",
      "\n",
      "Seed 221190\n",
      "Incumbent id: 1, Train time: 0.027851620000000025, Test time: 0.028070159999999993\n",
      "Incumbent id: 2, Train time: 0.027533043999999982, Test time: 0.028297936000000003\n",
      "Incumbent id: 3, Train time: 0.027659060000000003, Test time: 0.02881410399999998\n",
      "Incumbent id: 4, Train time: 0.028083131999999997, Test time: 0.02858832800000001\n",
      "-------------------------------------------------------------------\n",
      "Best Incumbent: 1, best test time 0.028070159999999993\n",
      "\n",
      "\n",
      "Seed 317\n",
      "Incumbent id: 1, Train time: 0.02721520800000001, Test time: 0.028019487999999988\n",
      "Incumbent id: 2, Train time: 0.027826996000000003, Test time: 0.028954455999999996\n",
      "Incumbent id: 3, Train time: 0.027806516000000003, Test time: 0.029414551999999997\n",
      "Incumbent id: 4, Train time: 0.02779651599999999, Test time: 0.029222003999999996\n",
      "Incumbent id: 5, Train time: 0.028061255999999986, Test time: 0.028636572000000027\n",
      "Incumbent id: 6, Train time: 0.027548971999999988, Test time: 0.029516131999999997\n",
      "Incumbent id: 7, Train time: 0.03018292800000001, Test time: 0.031768332\n",
      "Incumbent id: 8, Train time: 0.027498816000000016, Test time: 0.028174588\n",
      "Incumbent id: 9, Train time: 0.027561703999999996, Test time: 0.028173019999999997\n",
      "-------------------------------------------------------------------\n",
      "Best Incumbent: 1, best test time 0.028019487999999988\n",
      "\n",
      "\n",
      "Seed 777\n",
      "Incumbent id: 1, Train time: 0.027752580000000006, Test time: 0.028577679999999998\n",
      "Incumbent id: 2, Train time: 0.027427336, Test time: 0.02793177200000001\n",
      "Incumbent id: 3, Train time: 0.02778482800000002, Test time: 0.028417464000000014\n",
      "Incumbent id: 4, Train time: 0.028039095999999993, Test time: 0.02913380400000002\n",
      "Incumbent id: 5, Train time: 0.027779616000000007, Test time: 0.028217588000000002\n",
      "Incumbent id: 6, Train time: 0.02727814399999999, Test time: 0.027957232\n",
      "Incumbent id: 7, Train time: 0.026872912000000002, Test time: 0.027653587999999993\n",
      "Incumbent id: 8, Train time: 0.025579503999999996, Test time: 0.026444756\n",
      "Incumbent id: 9, Train time: 0.02569743599999998, Test time: 0.02622829200000002\n",
      "-------------------------------------------------------------------\n",
      "Best Incumbent: 9, best test time 0.02622829200000002\n",
      "\n",
      "\n"
     ]
    }
   ],
   "source": [
    "for seed in seeds:\n",
    "    run_path = output.joinpath(f\"run_{seed}\")\n",
    "    traj_path = run_path / \"traj.json\"\n",
    "    print(f\"Seed {seed}\")\n",
    "    \n",
    "    best_test_time = 1e6\n",
    "    best_test_idx = None\n",
    "    with open(traj_path, \"r\") as traj:\n",
    "        for idx, l in enumerate(traj.readlines()[1:]):\n",
    "            ld = ast.literal_eval(l)\n",
    "            incumbent = ld[\"incumbent\"]            \n",
    "            wt_str = \" \".join([f'{incumbent[k]}' for k in wt_lst])\n",
    "            \n",
    "            train_time = find_run_time(train_instances, wt_str)\n",
    "            test_time = find_run_time(test_instances, wt_str)\n",
    "            \n",
    "            print(f\"Incumbent id: {idx+1}, Train time: {train_time}, Test time: {test_time}\")\n",
    "            if test_time < best_test_time:\n",
    "                best_test_time = test_time\n",
    "                best_test_idx = idx+1\n",
    "    print(\"-------------------------------------------------------------------\")\n",
    "    print(f\"Best Incumbent: {best_test_idx}, best test time {best_test_time}\")\n",
    "    print(\"\\n\")"
   ]
  },
  {
   "cell_type": "code",
   "execution_count": 8,
   "id": "344ad0fc-0c0c-4491-a41e-1154c975160e",
   "metadata": {},
   "outputs": [
    {
     "name": "stdout",
     "output_type": "stream",
     "text": [
      "0.9182967088730671 0.9089081579717498 0.4500185954509764 0.42199285253811414 0.10105274422511748 0.525232096333076 0.2909215164563521 0.1087829211786774 0.47900710822884596 0.14390745990629927\n"
     ]
    }
   ],
   "source": [
    "instances = [f\"3_20/train/kp_7_3_20_{i}.dat\" for i in range(250)]\n",
    "\n",
    "{\"max_avg_value\": 0.4321253653800381, \"max_avg_value_by_weight\": 0.0638920131482687, \"max_max_value\": 0.17548031682439358, \"max_max_value_by_weight\": 0.07585762180182958, \"max_min_value\": 0.73275423425348, \"max_weight\": 0.822226327737958, \"min_avg_value\": 0.20912683008655408, \"min_max_value\": 0.23968137762255143, \"min_min_value\": 0.5989891421182663, \"min_weight\": 0.06619521915267598}\n",
    "\n",
    "\n",
    "wt_dict = {\"max_avg_value\": 0.4500185954509764, \n",
    "           \"max_avg_value_by_weight\": 0.47900710822884596, \n",
    "           \"max_max_value\": 0.10105274422511748, \n",
    "           \"max_max_value_by_weight\": 0.14390745990629927, \n",
    "           \"max_min_value\": 0.2909215164563521, \n",
    "           \"max_weight\": 0.9182967088730671, \n",
    "           \"min_avg_value\": 0.42199285253811414, \n",
    "           \"min_max_value\": 0.525232096333076, \n",
    "           \"min_min_value\": 0.1087829211786774, \n",
    "           \"min_weight\": 0.9089081579717498}"
   ]
  },
  {
   "cell_type": "code",
   "execution_count": 1,
   "id": "d51761cb-5af0-4ade-a5be-8038a23cc589",
   "metadata": {},
   "outputs": [],
   "source": [
    "for instance in instances:\n",
    "    cmd = f\"./multiobj {instances} ./sample_weighted.csv 1\"\n",
    "    cmd = cmd + \" \" + wt_str\n",
    "\n",
    "    io = Popen(cmd.split(\" \"), stdout=PIPE, stderr=PIPE)\n",
    "    (stdout_, stderr_) = io.communicate()\n",
    "\n",
    "    # print(stdout_, stderr_)\n",
    "    stdout_str = stdout_.decode('utf-8')\n",
    "\n",
    "    if len(stdout_str):\n",
    "        status, result = stdout_str.split(\":\")\n",
    "        print(result)\n",
    "        if status == \"Solved\":\n",
    "            print(np.sum(list(map(float, stdout_str.strip().split(',')[-3:]))))\n"
   ]
  },
  {
   "cell_type": "code",
   "execution_count": 3,
   "id": "84f62f74-4a4b-4ac2-8be7-390e725b6979",
   "metadata": {},
   "outputs": [
    {
     "name": "stdout",
     "output_type": "stream",
     "text": [
      "0.9182967088730671\n",
      "0.9089081579717498\n",
      "0.4500185954509764\n",
      "0.42199285253811414\n",
      "0.10105274422511748\n",
      "0.525232096333076\n",
      "0.2909215164563521\n",
      "0.1087829211786774\n",
      "0.47900710822884596\n",
      "0.14390745990629927\n"
     ]
    }
   ],
   "source": []
  },
  {
   "cell_type": "code",
   "execution_count": null,
   "id": "df03b498-0781-47df-b4c1-77620bf6c404",
   "metadata": {},
   "outputs": [],
   "source": []
  }
 ],
 "metadata": {
  "kernelspec": {
   "display_name": "Python 3 (ipykernel)",
   "language": "python",
   "name": "python3"
  },
  "language_info": {
   "codemirror_mode": {
    "name": "ipython",
    "version": 3
   },
   "file_extension": ".py",
   "mimetype": "text/x-python",
   "name": "python",
   "nbconvert_exporter": "python",
   "pygments_lexer": "ipython3",
   "version": "3.8.12"
  }
 },
 "nbformat": 4,
 "nbformat_minor": 5
}
